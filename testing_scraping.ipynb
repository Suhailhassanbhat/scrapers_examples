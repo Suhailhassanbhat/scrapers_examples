{
 "cells": [
  {
   "cell_type": "code",
   "execution_count": 1,
   "metadata": {},
   "outputs": [],
   "source": [
    "import pandas as pd\n",
    "import re\n",
    "import requests\n",
    "import numpy as np\n",
    "from bs4 import BeautifulSoup\n",
    "from glob import iglob"
   ]
  },
  {
   "cell_type": "code",
   "execution_count": 199,
   "metadata": {},
   "outputs": [],
   "source": [
    "# df = pd.read_excel(open(next(iglob('Community_Profile_Report*.xlsx')),'rb'), sheet_name='Counties')\n",
    "\n",
    "# cleaned_df=pd.read_csv(\"jefferson_testing.csv\")\n",
    "\n",
    "# df.columns = df.iloc[0]\n",
    "# df=df[1:]\n",
    "\n",
    "# df=df[df['County'] == 'Jefferson County, KY']\n",
    "\n",
    "# df=df[['Viral (RT-PCR) lab test positivity rate - last 7 days (may be an underestimate due to delayed reporting)', \n",
    "#    'Total RT-PCR diagnostic tests - last 7 days (may be an underestimate due to delayed reporting)']].reset_index()\n",
    "\n",
    "# df=df.rename(columns={\"Viral (RT-PCR) lab test positivity rate - last 7 days (may be an underestimate due to delayed reporting)\"\n",
    "#                    :\"positvity_rate\", \"Total RT-PCR diagnostic tests - last 7 days (may be an underestimate due to delayed reporting)\"\n",
    "#                    :'tests_lastweek'\n",
    "# })\n",
    "\n",
    "# df['date'] = '2020-12-17'\n",
    "\n",
    "# merged_df=pd.concat([df, cleaned_df])\n",
    "\n",
    "# merged_df.to_csv(\"jefferson_testing.csv\", index=False)\n",
    "\n",
    "# merged_df.head(3)"
   ]
  },
  {
   "cell_type": "code",
   "execution_count": 204,
   "metadata": {},
   "outputs": [],
   "source": [
    "cleaned_df=pd.read_csv(\"jefferson_testing.csv\")\n",
    "cleaned_df=cleaned_df.rename(columns={\"positvity_rate\":\"positivity_rate\"})\n",
    "# .to_csv(\"jefferson_testing.csv\", index=False)"
   ]
  },
  {
   "cell_type": "code",
   "execution_count": 207,
   "metadata": {},
   "outputs": [],
   "source": [
    "cleaned_df['positivity_rate']=cleaned_df['positivity_rate']*100"
   ]
  },
  {
   "cell_type": "code",
   "execution_count": 212,
   "metadata": {},
   "outputs": [],
   "source": [
    "cleaned_df.to_csv(\"jefferson_testing.csv\", index=False)"
   ]
  },
  {
   "cell_type": "code",
   "execution_count": null,
   "metadata": {},
   "outputs": [],
   "source": []
  }
 ],
 "metadata": {
  "kernelspec": {
   "display_name": "Python 3",
   "language": "python",
   "name": "python3"
  },
  "language_info": {
   "codemirror_mode": {
    "name": "ipython",
    "version": 3
   },
   "file_extension": ".py",
   "mimetype": "text/x-python",
   "name": "python",
   "nbconvert_exporter": "python",
   "pygments_lexer": "ipython3",
   "version": "3.8.5"
  }
 },
 "nbformat": 4,
 "nbformat_minor": 4
}
